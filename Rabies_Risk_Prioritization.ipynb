{
 "cells": [
  {
   "cell_type": "code",
   "execution_count": 9,
   "metadata": {
    "collapsed": true
   },
   "outputs": [],
   "source": [
    "import csv\n",
    "import random\n",
    "import math\n",
    "import numpy as np\n",
    "import matplotlib.pyplot as plt\n",
    "import scipy\n",
    "\n",
    "from sklearn.linear_model import LogisticRegression, LinearRegression\n",
    "from sklearn.ensemble import RandomForestClassifier, GradientBoostingClassifier, ExtraTreesClassifier, AdaBoostClassifier\n",
    "from sklearn.tree import DecisionTreeClassifier\n",
    "from sklearn import neighbors,cluster,model_selection\n",
    "from sklearn.model_selection import StratifiedKFold, cross_val_score\n",
    "from sklearn.metrics import confusion_matrix, classification_report\n",
    "from sklearn.feature_selection import SelectFromModel\n",
    "%matplotlib inline "
   ]
  },
  {
   "cell_type": "code",
   "execution_count": 12,
   "metadata": {
    "scrolled": true
   },
   "outputs": [
    {
     "name": "stdout",
     "output_type": "stream",
     "text": [
      "num communes: 140\n"
     ]
    }
   ],
   "source": [
    "risk_data = []\n",
    "\n",
    "with open(\"Risk_Data.csv\", \"rt\") as csvfile:\n",
    "    reader = csv.reader(csvfile, delimiter = \",\")\n",
    "    next(reader)\n",
    "    for row in reader:\n",
    "        for i in range(len(row)):\n",
    "            try:\n",
    "                row[i] = int(row[i])\n",
    "            except:\n",
    "                try:\n",
    "                    row[i] = float(row[i])\n",
    "                except:\n",
    "                    pass\n",
    "        risk_data.append(row)\n",
    "        \n",
    "print(\"num communes: \" + str(len(risk_data)))"
   ]
  },
  {
   "cell_type": "code",
   "execution_count": 15,
   "metadata": {},
   "outputs": [
    {
     "name": "stdout",
     "output_type": "stream",
     "text": [
      "77\n",
      "63\n"
     ]
    }
   ],
   "source": [
    "#labeled and unlabeled (so labeled can be split for training/testing)\n",
    "labeled1 = []\n",
    "unlabeled1 = []\n",
    "\n",
    "for i in risk_data:\n",
    "    if i[-1] != '':\n",
    "        labeled1.append(i)\n",
    "    else:\n",
    "        unlabeled1.append(i)\n",
    "        \n",
    "labeled = labeled1[:]\n",
    "unlabeled = unlabeled1[:]\n",
    "\n",
    "print(len(unlabeled))\n",
    "print(len(labeled))"
   ]
  },
  {
   "cell_type": "code",
   "execution_count": 16,
   "metadata": {
    "collapsed": true
   },
   "outputs": [],
   "source": [
    "def test_classifier(clf, features, n_splits=3):\n",
    "    \"\"\"\n",
    "    Test basic classifier using Stratified K-fold feature selection. The best train/test\n",
    "    split is used to create the confusion matrix\n",
    "    \"\"\"\n",
    "    Y = np.asarray(labeled)\n",
    "    folds = list(StratifiedKFold(n_splits, shuffle = True).split(np.asarray(labeled)[:,:-1], Y[:,-1]))\n",
    "    scores = cross_val_score(clf, features, Y[:,-1], scoring=\"accuracy\", cv=folds)\n",
    "    print(scores)\n",
    "    best_fold_train, best_fold_test = folds[np.argmax(scores)]\n",
    "    clf.fit(features[best_fold_train], Y[best_fold_train, -1])\n",
    "    Y_predict = clf.predict(features[best_fold_test])\n",
    "    cm = confusion_matrix(Y[best_fold_test,-1], Y_predict)\n",
    "    plot_confusion_matrix(cm)\n",
    "    print(classification_report(Y[best_fold_test,-1], Y_predict))\n",
    "    new_predict = clf.predict(np.asarray(unlabeled)[:,:-1])\n",
    "    print(new_predict)\n",
    "\n",
    "def plot_confusion_matrix(cm, title='Confusion matrix', cmap=plt.cm.Blues, labels=[]):\n",
    "    \"\"\"\n",
    "    Method to visualize confusion matrix\n",
    "    \"\"\"\n",
    "    plt.imshow(cm, interpolation='nearest', cmap=cmap)\n",
    "    plt.title(title)\n",
    "    plt.colorbar()\n",
    "    tick_marks = np.arange(len(labels))\n",
    "    plt.xticks(tick_marks, labels, rotation=45)\n",
    "    plt.yticks(tick_marks, labels)\n",
    "    plt.tight_layout()\n",
    "    plt.ylabel('True label')\n",
    "    plt.xlabel('Predicted label')"
   ]
  },
  {
   "cell_type": "code",
   "execution_count": 135,
   "metadata": {
    "scrolled": true
   },
   "outputs": [
    {
     "name": "stdout",
     "output_type": "stream",
     "text": [
      "[0.28571429 0.42857143 0.36842105]\n",
      "             precision    recall  f1-score   support\n",
      "\n",
      "        0.0       0.33      0.29      0.31         7\n",
      "        1.0       0.50      0.56      0.53         9\n",
      "        2.0       0.60      0.60      0.60         5\n",
      "\n",
      "avg / total       0.47      0.48      0.47        21\n",
      "\n",
      "[0. 1. 0. 0. 0. 1. 1. 1. 1. 1. 1. 0. 0. 1. 0. 1. 1. 0. 0. 1. 0. 0. 1. 1.\n",
      " 1. 1. 1. 1. 0. 0. 0. 0. 0. 0. 0. 0. 0. 0. 0. 0. 2. 1. 2. 1. 1. 0. 1. 1.\n",
      " 1. 0. 0. 1. 1. 0. 1. 0. 1. 0. 0. 1. 1. 1. 1. 1. 0. 1. 1. 1. 1. 1. 0. 0.\n",
      " 0. 0. 0.]\n"
     ]
    },
    {
     "data": {
      "image/png": "[encoded data removed]",
      "text/plain": [
       "<matplotlib.figure.Figure at 0x11271cef0>"
      ]
     },
     "metadata": {},
     "output_type": "display_data"
    }
   ],
   "source": [
    "test_classifier(RandomForestClassifier(), np.asarray(labeled)[:,:-1])"
   ]
  },
  {
   "cell_type": "code",
   "execution_count": 232,
   "metadata": {
    "scrolled": true
   },
   "outputs": [
    {
     "name": "stdout",
     "output_type": "stream",
     "text": [
      "[0.36363636 0.38095238 0.5       ]\n",
      "             precision    recall  f1-score   support\n",
      "\n",
      "        0.0       0.40      0.33      0.36         6\n",
      "        1.0       0.50      0.67      0.57         9\n",
      "        2.0       0.67      0.40      0.50         5\n",
      "\n",
      "avg / total       0.51      0.50      0.49        20\n",
      "\n"
     ]
    },
    {
     "ename": "TypeError",
     "evalue": "Cannot cast array data from dtype('float64') to dtype('<U32') according to the rule 'safe'",
     "output_type": "error",
     "traceback": [
      "\u001b[0;31m---------------------------------------------------------------------------\u001b[0m",
      "\u001b[0;31mTypeError\u001b[0m                                 Traceback (most recent call last)",
      "\u001b[0;32m<ipython-input-232-40a93f75a3eb>\u001b[0m in \u001b[0;36m<module>\u001b[0;34m()\u001b[0m\n\u001b[0;32m----> 1\u001b[0;31m \u001b[0mtest_classifier\u001b[0m\u001b[0;34m(\u001b[0m\u001b[0mLogisticRegression\u001b[0m\u001b[0;34m(\u001b[0m\u001b[0msolver\u001b[0m\u001b[0;34m=\u001b[0m\u001b[0;34m'lbfgs'\u001b[0m\u001b[0;34m,\u001b[0m \u001b[0mmulti_class\u001b[0m\u001b[0;34m=\u001b[0m\u001b[0;34m'multinomial'\u001b[0m\u001b[0;34m)\u001b[0m\u001b[0;34m,\u001b[0m \u001b[0mnp\u001b[0m\u001b[0;34m.\u001b[0m\u001b[0masarray\u001b[0m\u001b[0;34m(\u001b[0m\u001b[0mlabeled\u001b[0m\u001b[0;34m)\u001b[0m\u001b[0;34m[\u001b[0m\u001b[0;34m:\u001b[0m\u001b[0;34m,\u001b[0m\u001b[0;34m:\u001b[0m\u001b[0;34m-\u001b[0m\u001b[0;36m1\u001b[0m\u001b[0;34m]\u001b[0m\u001b[0;34m)\u001b[0m\u001b[0;34m\u001b[0m\u001b[0m\n\u001b[0m",
      "\u001b[0;32m<ipython-input-16-b9d5213d9e9a>\u001b[0m in \u001b[0;36mtest_classifier\u001b[0;34m(clf, features, n_splits)\u001b[0m\n\u001b[1;32m     14\u001b[0m     \u001b[0mplot_confusion_matrix\u001b[0m\u001b[0;34m(\u001b[0m\u001b[0mcm\u001b[0m\u001b[0;34m)\u001b[0m\u001b[0;34m\u001b[0m\u001b[0m\n\u001b[1;32m     15\u001b[0m     \u001b[0mprint\u001b[0m\u001b[0;34m(\u001b[0m\u001b[0mclassification_report\u001b[0m\u001b[0;34m(\u001b[0m\u001b[0mY\u001b[0m\u001b[0;34m[\u001b[0m\u001b[0mbest_fold_test\u001b[0m\u001b[0;34m,\u001b[0m\u001b[0;34m-\u001b[0m\u001b[0;36m1\u001b[0m\u001b[0;34m]\u001b[0m\u001b[0;34m,\u001b[0m \u001b[0mY_predict\u001b[0m\u001b[0;34m)\u001b[0m\u001b[0;34m)\u001b[0m\u001b[0;34m\u001b[0m\u001b[0m\n\u001b[0;32m---> 16\u001b[0;31m     \u001b[0mnew_predict\u001b[0m \u001b[0;34m=\u001b[0m \u001b[0mclf\u001b[0m\u001b[0;34m.\u001b[0m\u001b[0mpredict\u001b[0m\u001b[0;34m(\u001b[0m\u001b[0mnp\u001b[0m\u001b[0;34m.\u001b[0m\u001b[0masarray\u001b[0m\u001b[0;34m(\u001b[0m\u001b[0munlabeled\u001b[0m\u001b[0;34m)\u001b[0m\u001b[0;34m[\u001b[0m\u001b[0;34m:\u001b[0m\u001b[0;34m,\u001b[0m\u001b[0;34m:\u001b[0m\u001b[0;34m-\u001b[0m\u001b[0;36m1\u001b[0m\u001b[0;34m]\u001b[0m\u001b[0;34m)\u001b[0m\u001b[0;34m\u001b[0m\u001b[0m\n\u001b[0m\u001b[1;32m     17\u001b[0m     \u001b[0mprint\u001b[0m\u001b[0;34m(\u001b[0m\u001b[0mnew_predict\u001b[0m\u001b[0;34m)\u001b[0m\u001b[0;34m\u001b[0m\u001b[0m\n\u001b[1;32m     18\u001b[0m \u001b[0;34m\u001b[0m\u001b[0m\n",
      "\u001b[0;32m~/anaconda3/lib/python3.6/site-packages/sklearn/linear_model/base.py\u001b[0m in \u001b[0;36mpredict\u001b[0;34m(self, X)\u001b[0m\n\u001b[1;32m    322\u001b[0m             \u001b[0mPredicted\u001b[0m \u001b[0;32mclass\u001b[0m \u001b[0mlabel\u001b[0m \u001b[0mper\u001b[0m \u001b[0msample\u001b[0m\u001b[0;34m.\u001b[0m\u001b[0;34m\u001b[0m\u001b[0m\n\u001b[1;32m    323\u001b[0m         \"\"\"\n\u001b[0;32m--> 324\u001b[0;31m         \u001b[0mscores\u001b[0m \u001b[0;34m=\u001b[0m \u001b[0mself\u001b[0m\u001b[0;34m.\u001b[0m\u001b[0mdecision_function\u001b[0m\u001b[0;34m(\u001b[0m\u001b[0mX\u001b[0m\u001b[0;34m)\u001b[0m\u001b[0;34m\u001b[0m\u001b[0m\n\u001b[0m\u001b[1;32m    325\u001b[0m         \u001b[0;32mif\u001b[0m \u001b[0mlen\u001b[0m\u001b[0;34m(\u001b[0m\u001b[0mscores\u001b[0m\u001b[0;34m.\u001b[0m\u001b[0mshape\u001b[0m\u001b[0;34m)\u001b[0m \u001b[0;34m==\u001b[0m \u001b[0;36m1\u001b[0m\u001b[0;34m:\u001b[0m\u001b[0;34m\u001b[0m\u001b[0m\n\u001b[1;32m    326\u001b[0m             \u001b[0mindices\u001b[0m \u001b[0;34m=\u001b[0m \u001b[0;34m(\u001b[0m\u001b[0mscores\u001b[0m \u001b[0;34m>\u001b[0m \u001b[0;36m0\u001b[0m\u001b[0;34m)\u001b[0m\u001b[0;34m.\u001b[0m\u001b[0mastype\u001b[0m\u001b[0;34m(\u001b[0m\u001b[0mnp\u001b[0m\u001b[0;34m.\u001b[0m\u001b[0mint\u001b[0m\u001b[0;34m)\u001b[0m\u001b[0;34m\u001b[0m\u001b[0m\n",
      "\u001b[0;32m~/anaconda3/lib/python3.6/site-packages/sklearn/linear_model/base.py\u001b[0m in \u001b[0;36mdecision_function\u001b[0;34m(self, X)\u001b[0m\n\u001b[1;32m    306\u001b[0m \u001b[0;34m\u001b[0m\u001b[0m\n\u001b[1;32m    307\u001b[0m         scores = safe_sparse_dot(X, self.coef_.T,\n\u001b[0;32m--> 308\u001b[0;31m                                  dense_output=True) + self.intercept_\n\u001b[0m\u001b[1;32m    309\u001b[0m         \u001b[0;32mreturn\u001b[0m \u001b[0mscores\u001b[0m\u001b[0;34m.\u001b[0m\u001b[0mravel\u001b[0m\u001b[0;34m(\u001b[0m\u001b[0;34m)\u001b[0m \u001b[0;32mif\u001b[0m \u001b[0mscores\u001b[0m\u001b[0;34m.\u001b[0m\u001b[0mshape\u001b[0m\u001b[0;34m[\u001b[0m\u001b[0;36m1\u001b[0m\u001b[0;34m]\u001b[0m \u001b[0;34m==\u001b[0m \u001b[0;36m1\u001b[0m \u001b[0;32melse\u001b[0m \u001b[0mscores\u001b[0m\u001b[0;34m\u001b[0m\u001b[0m\n\u001b[1;32m    310\u001b[0m \u001b[0;34m\u001b[0m\u001b[0m\n",
      "\u001b[0;32m~/anaconda3/lib/python3.6/site-packages/sklearn/utils/extmath.py\u001b[0m in \u001b[0;36msafe_sparse_dot\u001b[0;34m(a, b, dense_output)\u001b[0m\n\u001b[1;32m    138\u001b[0m         \u001b[0;32mreturn\u001b[0m \u001b[0mret\u001b[0m\u001b[0;34m\u001b[0m\u001b[0m\n\u001b[1;32m    139\u001b[0m     \u001b[0;32melse\u001b[0m\u001b[0;34m:\u001b[0m\u001b[0;34m\u001b[0m\u001b[0m\n\u001b[0;32m--> 140\u001b[0;31m         \u001b[0;32mreturn\u001b[0m \u001b[0mnp\u001b[0m\u001b[0;34m.\u001b[0m\u001b[0mdot\u001b[0m\u001b[0;34m(\u001b[0m\u001b[0ma\u001b[0m\u001b[0;34m,\u001b[0m \u001b[0mb\u001b[0m\u001b[0;34m)\u001b[0m\u001b[0;34m\u001b[0m\u001b[0m\n\u001b[0m\u001b[1;32m    141\u001b[0m \u001b[0;34m\u001b[0m\u001b[0m\n\u001b[1;32m    142\u001b[0m \u001b[0;34m\u001b[0m\u001b[0m\n",
      "\u001b[0;31mTypeError\u001b[0m: Cannot cast array data from dtype('float64') to dtype('<U32') according to the rule 'safe'"
     ]
    },
    {
     "data": {
      "image/png": "[encoded data removed]",
      "text/plain": [
       "<matplotlib.figure.Figure at 0x1036626a0>"
      ]
     },
     "metadata": {},
     "output_type": "display_data"
    }
   ],
   "source": [
    "test_classifier(LogisticRegression(solver='lbfgs', multi_class='multinomial'), np.asarray(labeled)[:,:-1])"
   ]
  },
  {
   "cell_type": "code",
   "execution_count": 208,
   "metadata": {
    "scrolled": false
   },
   "outputs": [
    {
     "name": "stdout",
     "output_type": "stream",
     "text": [
      "[0.59090909 0.38095238 0.35      ]\n",
      "             precision    recall  f1-score   support\n",
      "\n",
      "        0.0       0.50      0.29      0.36         7\n",
      "        1.0       0.56      0.90      0.69        10\n",
      "        2.0       1.00      0.40      0.57         5\n",
      "\n",
      "avg / total       0.64      0.59      0.56        22\n",
      "\n",
      "[1. 0. 0. 1. 1. 1. 0. 1. 1. 0. 1. 1. 1. 1. 1. 1. 1. 1. 1. 1. 0. 1. 1. 1.\n",
      " 1. 0. 0. 1. 1. 1. 1. 1. 1. 1. 1. 1. 0. 0. 0. 1. 1. 1. 1. 1. 1. 1. 1. 1.\n",
      " 1. 1. 1. 1. 1. 1. 1. 1. 0. 1. 1. 1. 1. 1. 0. 1. 0. 0. 1. 0. 1. 0. 0. 1.\n",
      " 0. 1. 1. 1. 0.]\n"
     ]
    },
    {
     "data": {
      "image/png": "[encoded data removed]",
      "text/plain": [
       "<matplotlib.figure.Figure at 0x1099d2eb8>"
      ]
     },
     "metadata": {},
     "output_type": "display_data"
    }
   ],
   "source": [
    "test_classifier(neighbors.KNeighborsClassifier(n_neighbors = 10), np.asarray(labeled)[:,:-1])"
   ]
  },
  {
   "cell_type": "code",
   "execution_count": 215,
   "metadata": {
    "scrolled": false
   },
   "outputs": [
    {
     "name": "stdout",
     "output_type": "stream",
     "text": [
      "[0.31818182 0.47619048 0.2       ]\n",
      "             precision    recall  f1-score   support\n",
      "\n",
      "        0.0       0.41      1.00      0.58         7\n",
      "        1.0       0.00      0.00      0.00         9\n",
      "        2.0       0.75      0.60      0.67         5\n",
      "\n",
      "avg / total       0.32      0.48      0.35        21\n",
      "\n",
      "[0 0 0 0 0 0 0 0 0 0 0 0 0 0 0 0 0 0 0 0 0 0 0 0 0 0 0 0 0 0 0 0 0 0 0 0 0\n",
      " 0 0 0 0 0 0 0 2 0 0 0 0 0 0 0 0 0 0 0 0 0 0 0 0 0 0 0 0 0 0 0 0 0 0 0 0 0\n",
      " 0 0 0]\n"
     ]
    },
    {
     "name": "stderr",
     "output_type": "stream",
     "text": [
      "/Users/patriciaray/anaconda3/lib/python3.6/site-packages/sklearn/metrics/classification.py:1135: UndefinedMetricWarning: Precision and F-score are ill-defined and being set to 0.0 in labels with no predicted samples.\n",
      "  'precision', 'predicted', average, warn_for)\n"
     ]
    },
    {
     "data": {
      "image/png": "[encoded data removed]",
      "text/plain": [
       "<matplotlib.figure.Figure at 0x1094f02e8>"
      ]
     },
     "metadata": {},
     "output_type": "display_data"
    }
   ],
   "source": [
    "test_classifier(cluster.KMeans(n_clusters=3), np.asarray(labeled)[:,:-1])"
   ]
  },
  {
   "cell_type": "code",
   "execution_count": 126,
   "metadata": {
    "scrolled": true
   },
   "outputs": [
    {
     "name": "stdout",
     "output_type": "stream",
     "text": [
      "[0.40909091 0.52380952 0.7       ]\n",
      "             precision    recall  f1-score   support\n",
      "\n",
      "        0.0       0.50      0.67      0.57         6\n",
      "        1.0       0.71      0.56      0.63         9\n",
      "        2.0       1.00      1.00      1.00         5\n",
      "\n",
      "avg / total       0.72      0.70      0.70        20\n",
      "\n",
      "[1. 1. 0. 2. 0. 0. 0. 1. 1. 1. 1. 0. 1. 1. 1. 1. 0. 1. 1. 0. 0. 2. 1. 2.\n",
      " 1. 1. 1. 1. 1. 0. 0. 1. 0. 2. 0. 2. 2. 0. 0. 1. 1. 0. 0. 0. 2. 1. 1. 0.\n",
      " 1. 0. 0. 0. 0. 1. 0. 2. 1. 2. 0. 1. 0. 0. 0. 1. 1. 0. 0. 1. 0. 1. 0. 1.\n",
      " 0. 2. 0. 0. 0.]\n"
     ]
    },
    {
     "data": {
      "image/png": "[encoded data removed]",
      "text/plain": [
       "<matplotlib.figure.Figure at 0x1097d6710>"
      ]
     },
     "metadata": {},
     "output_type": "display_data"
    }
   ],
   "source": [
    "test_classifier(GradientBoostingClassifier(), np.asarray(labeled)[:,:-1])"
   ]
  },
  {
   "cell_type": "code",
   "execution_count": 203,
   "metadata": {},
   "outputs": [
    {
     "name": "stdout",
     "output_type": "stream",
     "text": [
      "[0.61904762 0.38095238 0.36842105]\n",
      "             precision    recall  f1-score   support\n",
      "\n",
      "        0.0       0.38      0.43      0.40         7\n",
      "        1.0       0.62      0.56      0.59         9\n",
      "        2.0       0.60      0.60      0.60         5\n",
      "\n",
      "avg / total       0.54      0.52      0.53        21\n",
      "\n",
      "[0. 1. 0. 0. 1. 1. 1. 0. 1. 1. 1. 1. 1. 0. 1. 1. 0. 1. 0. 1. 1. 1. 0. 0.\n",
      " 1. 0. 1. 0. 0. 0. 1. 1. 0. 1. 0. 0. 1. 1. 1. 0. 1. 0. 2. 1. 1. 0. 0. 0.\n",
      " 1. 1. 0. 0. 1. 1. 0. 0. 0. 1. 0. 0. 0. 0. 0. 0. 0. 0. 0. 1. 0. 0. 0. 0.\n",
      " 1. 0. 1.]\n"
     ]
    },
    {
     "data": {
      "image/png": "[encoded data removed]",
      "text/plain": [
       "<matplotlib.figure.Figure at 0x1127c86d8>"
      ]
     },
     "metadata": {},
     "output_type": "display_data"
    }
   ],
   "source": [
    "test_classifier(ExtraTreesClassifier(), np.asarray(labeled)[:,:-1])"
   ]
  },
  {
   "cell_type": "code",
   "execution_count": 224,
   "metadata": {
    "scrolled": true
   },
   "outputs": [
    {
     "name": "stdout",
     "output_type": "stream",
     "text": [
      "[0.52380952 0.42857143 0.57894737]\n",
      "             precision    recall  f1-score   support\n",
      "\n",
      "        0.0       0.67      0.33      0.44         6\n",
      "        1.0       0.56      0.62      0.59         8\n",
      "        2.0       0.57      0.80      0.67         5\n",
      "\n",
      "avg / total       0.59      0.58      0.56        19\n",
      "\n",
      "[1. 2. 1. 0. 1. 2. 1. 0. 1. 1. 1. 1. 1. 0. 0. 1. 1. 1. 1. 2. 1. 2. 1. 0.\n",
      " 1. 0. 1. 0. 0. 1. 1. 2. 1. 2. 2. 1. 1. 1. 1. 1. 1. 1. 2. 1. 0. 1. 1. 0.\n",
      " 0. 0. 1. 1. 1. 2. 0. 2. 1. 1. 0. 1. 1. 1. 1. 1. 1. 1. 0. 1. 0. 1. 0. 2.\n",
      " 0. 1. 1.]\n"
     ]
    },
    {
     "data": {
      "image/png": "[encoded data removed]",
      "text/plain": [
       "<matplotlib.figure.Figure at 0x1127d6198>"
      ]
     },
     "metadata": {},
     "output_type": "display_data"
    }
   ],
   "source": [
    "test_classifier(AdaBoostClassifier(), np.asarray(labeled)[:,:-1])"
   ]
  },
  {
   "cell_type": "code",
   "execution_count": 227,
   "metadata": {},
   "outputs": [
    {
     "name": "stdout",
     "output_type": "stream",
     "text": [
      "[0.54545455 0.52380952 0.4       ]\n",
      "             precision    recall  f1-score   support\n",
      "\n",
      "        0.0       0.38      0.43      0.40         7\n",
      "        1.0       0.50      0.40      0.44        10\n",
      "        2.0       0.83      1.00      0.91         5\n",
      "\n",
      "avg / total       0.54      0.55      0.54        22\n",
      "\n",
      "[0. 0. 1. 2. 0. 0. 0. 0. 0. 1. 1. 1. 0. 0. 1. 0. 1. 1. 0. 0. 1. 0. 0. 2.\n",
      " 0. 0. 0. 0. 0. 1. 0. 1. 1. 2. 0. 2. 2. 1. 1. 1. 1. 1. 1. 1. 2. 1. 0. 0.\n",
      " 0. 0. 1. 1. 0. 1. 1. 2. 1. 2. 0. 0. 0. 0. 0. 0. 0. 1. 0. 0. 0. 1. 0. 1.\n",
      " 0. 0. 1. 0. 0.]\n"
     ]
    },
    {
     "data": {
      "image/png": "[encoded data removed]",
      "text/plain": [
       "<matplotlib.figure.Figure at 0x109363f60>"
      ]
     },
     "metadata": {},
     "output_type": "display_data"
    }
   ],
   "source": [
    "test_classifier(DecisionTreeClassifier(), np.asarray(labeled)[:,:-1])"
   ]
  },
  {
   "cell_type": "markdown",
   "metadata": {},
   "source": [
    "# Ignore below this"
   ]
  },
  {
   "cell_type": "code",
   "execution_count": 3,
   "metadata": {
    "collapsed": true
   },
   "outputs": [],
   "source": [
    "#training and testing sets\n",
    "test1 = unlabeled\n",
    "test2 = []\n",
    "train = []\n",
    "\n",
    "while labeled != []:\n",
    "    a = random.choice(labeled)\n",
    "    a[-1] = math.ceil(float(a[-1]))\n",
    "    test2.append(a)\n",
    "    labeled.remove(a)\n",
    "    try:\n",
    "        b = random.choice(labeled)\n",
    "        b[-1] = math.ceil(float(b[-1]))\n",
    "        train.append(b)\n",
    "        labeled.remove(b)\n",
    "    except:jj\n",
    "        pass\n",
    "test = test1 + test2"
   ]
  },
  {
   "cell_type": "code",
   "execution_count": 4,
   "metadata": {
    "collapsed": true
   },
   "outputs": [],
   "source": [
    "X_train = []\n",
    "Y_train = []\n",
    "\n",
    "for i in train:\n",
    "    X_train.append(i[1:-2])\n",
    "    Y_train.append(i[-1])\n",
    "\n",
    "X_test = []\n",
    "Y_test = []\n",
    "\n",
    "for j in test:\n",
    "    X_test.append(j[1:-2])\n",
    "    Y_test.append(j[-1])"
   ]
  },
  {
   "cell_type": "code",
   "execution_count": 5,
   "metadata": {},
   "outputs": [
    {
     "name": "stdout",
     "output_type": "stream",
     "text": [
      "0.3\n"
     ]
    }
   ],
   "source": [
    "lr = LogisticRegression()\n",
    "lr.fit(np.asarray(X_train), np.asarray(Y_train))\n",
    "output_lr = lr.predict(np.asarray(X_test))\n",
    "\n",
    "count = 0\n",
    "for i in range(len(Y_test)):\n",
    "    if Y_test[i] == output_lr[i]:\n",
    "        count = count + 1\n",
    "print(count/30)"
   ]
  },
  {
   "cell_type": "code",
   "execution_count": 6,
   "metadata": {
    "scrolled": false
   },
   "outputs": [
    {
     "name": "stdout",
     "output_type": "stream",
     "text": [
      "0.4\n"
     ]
    }
   ],
   "source": [
    "rf = RandomForestClassifier()\n",
    "rf.fit(np.asarray(X_train), np.asarray(Y_train))\n",
    "output_rf = rf.predict(np.asarray(X_test))\n",
    "\n",
    "count = 0\n",
    "for i in range(len(Y_test)):\n",
    "    if Y_test[i] == output_rf[i]:\n",
    "        count = count + 1\n",
    "print(count/30)"
   ]
  },
  {
   "cell_type": "code",
   "execution_count": 7,
   "metadata": {},
   "outputs": [
    {
     "name": "stdout",
     "output_type": "stream",
     "text": [
      "0.5333333333333333\n"
     ]
    }
   ],
   "source": [
    "knn = neighbors.KNeighborsClassifier(n_neighbors = 10)\n",
    "knn.fit(np.asarray(X_train), np.asarray(Y_train))\n",
    "output_knn = knn.predict(np.asarray(X_test))\n",
    "\n",
    "count = 0\n",
    "for i in range(len(Y_test)):\n",
    "    if Y_test[i] == output_knn[i]:\n",
    "        count = count + 1\n",
    "print(count/30)"
   ]
  },
  {
   "cell_type": "code",
   "execution_count": 8,
   "metadata": {},
   "outputs": [
    {
     "name": "stdout",
     "output_type": "stream",
     "text": [
      "0.36666666666666664\n"
     ]
    }
   ],
   "source": [
    "km = cluster.KMeans(n_clusters=4)\n",
    "km.fit(np.asarray(X_train), np.asarray(Y_train))\n",
    "output_km = km.predict(np.asarray(X_test))\n",
    "\n",
    "count = 0\n",
    "for i in range(len(Y_test)):\n",
    "    if Y_test[i] == output_km[i]:\n",
    "        count = count + 1\n",
    "print(count/30)"
   ]
  },
  {
   "cell_type": "code",
   "execution_count": 9,
   "metadata": {},
   "outputs": [
    {
     "name": "stdout",
     "output_type": "stream",
     "text": [
      "0.0\n"
     ]
    },
    {
     "name": "stderr",
     "output_type": "stream",
     "text": [
      "/Users/patriciaray/anaconda3/lib/python3.6/site-packages/sklearn/linear_model/base.py:509: RuntimeWarning: internal gelsd driver lwork query error, required iwork dimension not returned. This is likely the result of LAPACK bug 0038, fixed in LAPACK 3.2.2 (released July 21, 2010). Falling back to 'gelss' driver.\n",
      "  linalg.lstsq(X, y)\n"
     ]
    }
   ],
   "source": [
    "reg = LinearRegression()\n",
    "reg.fit(np.asarray(X_train), np.asarray(Y_train))\n",
    "output_reg = reg.predict(np.asarray(X_test))\n",
    "\n",
    "count = 0\n",
    "for i in range(len(Y_test)):\n",
    "    if Y_test[i] == output_reg[i]:\n",
    "        count = count + 1\n",
    "print(count/30)"
   ]
  },
  {
   "cell_type": "code",
   "execution_count": 165,
   "metadata": {},
   "outputs": [
    {
     "name": "stdout",
     "output_type": "stream",
     "text": [
      "[21302, 376834, 249628, 37027, 150511, 116350, 31553, 34700, 29891, 10541, 23279, 86612, 274404, 57434, 36453, 199813, 266642, 203975, 48687, 54050, 25240, 63224, 172965, 39069, 45043, 55145, 395260, 56532, 144812, 36200]\n",
      "[0, 3, 1, 0, 0, 1, 0, 2, 0, 0, 1, 0, 1, 0, 2, 1, 1, 2, 1, 0, 1, 2, 1, 0, 0, 2, 1, 2, 1, 0]\n"
     ]
    },
    {
     "data": {
      "image/png": "[encoded data removed]",
      "text/plain": [
       "<matplotlib.figure.Figure at 0x11671ce48>"
      ]
     },
     "metadata": {},
     "output_type": "display_data"
    }
   ],
   "source": [
    "temp_x = []\n",
    "\n",
    "for i in X_train:\n",
    "    temp_x.append(i[0])\n",
    "    \n",
    "print(temp_x)\n",
    "print(Y_train)\n",
    "plt.scatter(temp_x,Y_train)\n",
    "plt.show()"
   ]
  }
 ],
 "metadata": {
  "kernelspec": {
   "display_name": "Python 3",
   "language": "python",
   "name": "python3"
  },
  "language_info": {
   "codemirror_mode": {
    "name": "ipython",
    "version": 3
   },
   "file_extension": ".py",
   "mimetype": "text/x-python",
   "name": "python",
   "nbconvert_exporter": "python",
   "pygments_lexer": "ipython3",
   "version": "3.6.3"
  }
 },
 "nbformat": 4,
 "nbformat_minor": 2
}
