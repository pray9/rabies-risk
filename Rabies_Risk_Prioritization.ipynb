{
 "cells": [
  {
   "cell_type": "markdown",
   "metadata": {},
   "source": [
    "## Rabies Risk Prioritization Machine Learning Model\n",
    "\n",
    "Welcome to this jupyter notebook tutorial! Jupyter notebook allows you to run one block of code at a time, but note that these need to be run in the order that they appear. The run button can be found on the bar above, just to the left of the stop button, and it will run the block of code that you have currently selected, and any output will be displayed below it. The plus button will add a block of code if there is something you would like to add (for example, adding a block to try a new classifier). The first thing we need to do is import all the modules we will be using."
   ]
  },
  {
   "cell_type": "code",
   "execution_count": 10,
   "metadata": {
    "collapsed": true
   },
   "outputs": [],
   "source": [
    "#import the necessary modules\n",
    "import csv\n",
    "import sys\n",
    "import random\n",
    "import math\n",
    "import numpy as np\n",
    "import matplotlib.pyplot as plt\n",
    "import scipy\n",
    "import itertools\n",
    "\n",
    "from matplotlib.pyplot import savefig\n",
    "from sklearn.linear_model import LogisticRegression, LinearRegression\n",
    "from sklearn.ensemble import RandomForestClassifier, GradientBoostingClassifier, ExtraTreesClassifier, AdaBoostClassifier\n",
    "from sklearn.tree import DecisionTreeClassifier\n",
    "from sklearn import neighbors,cluster,model_selection\n",
    "from sklearn.model_selection import StratifiedKFold, cross_val_score\n",
    "from sklearn.metrics import confusion_matrix, classification_report\n",
    "from sklearn.feature_selection import SelectFromModel\n",
    "%matplotlib inline "
   ]
  },
  {
   "cell_type": "markdown",
   "metadata": {},
   "source": [
    "Then we preprocess the data, reading it in from the csv file 'Risk_Data.csv'. This file needs to be saved in the same folder as this jupyter notebook. This file contains columns of input data. The first two columns are the commune and department ID, respectively, and these can be tied to commune and department names according to the IDs found in 'communeID.csv'. If you decide to add inputs to this dataset, add them to the second-to-last column (just make sure that bucketed_scores always remains the last column).\n",
    "\n",
    "The final column is called 'bucketed_scores', and each of the 63 communes in the dog surveillance system are given a label of 0, 1, or 2. "
   ]
  },
  {
   "cell_type": "code",
   "execution_count": 11,
   "metadata": {
    "scrolled": true
   },
   "outputs": [
    {
     "name": "stdout",
     "output_type": "stream",
     "text": [
      "num communes: 140\n"
     ]
    }
   ],
   "source": [
    "#preprocess the risk data\n",
    "risk_data = []\n",
    "\n",
    "with open(\"Risk_Data.csv\", \"rt\") as csvfile:\n",
    "    reader = csv.reader(csvfile, delimiter = \",\")\n",
    "    next(reader)\n",
    "    for row in reader:\n",
    "        for i in range(len(row)):\n",
    "            try:\n",
    "                row[i] = int(row[i])\n",
    "            except:\n",
    "                try:\n",
    "                    row[i] = float(row[i])\n",
    "                except:\n",
    "                    pass\n",
    "        risk_data.append(row)\n",
    "        \n",
    "print(\"num communes: \" + str(len(risk_data)))"
   ]
  },
  {
   "cell_type": "markdown",
   "metadata": {},
   "source": [
    "We then divide the data into labeled and unlabeled lists as the first step in determining our testing and training set."
   ]
  },
  {
   "cell_type": "code",
   "execution_count": 12,
   "metadata": {},
   "outputs": [
    {
     "name": "stdout",
     "output_type": "stream",
     "text": [
      "77\n",
      "63\n"
     ]
    }
   ],
   "source": [
    "#labeled and unlabeled (so labeled can be split for training/testing)\n",
    "labeled = []\n",
    "unlabeled = []\n",
    "\n",
    "for i in risk_data:\n",
    "    if i[-1] != '':\n",
    "        labeled.append(i)\n",
    "    else:\n",
    "        unlabeled.append(i)\n",
    "\n",
    "#printing number of unlabeled and labeled communes\n",
    "print(len(unlabeled))\n",
    "print(len(labeled))"
   ]
  },
  {
   "cell_type": "markdown",
   "metadata": {},
   "source": [
    "The functions below provide a modular way to test a classifier and plot the confusion matrix so that it is easy to test and evaluate multiple classifiers. \n",
    "\n",
    "The function test_classifier takes in the classifier you would like to use, the input data, and the number of folds that will be used for cross validation. In this example, we use n_splits = 3, so our results will be averaged over 3 folds. The labeled data will be divided into 3 groups of the same size, and stratification ensures that the labels of each group are representative of the entire set of 63. This function will also call plot_confusion_matrix and print a classification_report.\n",
    "\n",
    "The function plot_confusion_matrix will plot a normalized confusion matrix. This means that it will plot the instances of each combination of predicted and true labels. The percentage is determined by dividing by the number of true labels of each class. The confusion matrix will also be saved as a pdf in the folder where you have this jupyter notebook saved. This will be a higher quality image than what appears here."
   ]
  },
  {
   "cell_type": "code",
   "execution_count": 5,
   "metadata": {
    "collapsed": true
   },
   "outputs": [],
   "source": [
    "def test_classifier(clf, features, n_splits=3):\n",
    "    \"\"\"\n",
    "    Test basic classifier using Stratified K-fold feature selection. The best train/test\n",
    "    split is used to create the confusion matrix\n",
    "    \"\"\"\n",
    "    Y = np.asarray(labeled)\n",
    "    folds = list(StratifiedKFold(n_splits, shuffle = True).split(np.asarray(labeled)[:,:-1], Y[:,-1]))\n",
    "    scores = cross_val_score(clf, features, Y[:,-1], scoring=\"accuracy\", cv=folds)\n",
    "    print(np.average(scores))\n",
    "    print(scores)\n",
    "    total_Y = []\n",
    "    total_Y_predict = []\n",
    "    for i in range(n_splits):\n",
    "        best_fold_train, best_fold_test = folds[i]\n",
    "        clf.fit(features[best_fold_train], Y[best_fold_train, -1])\n",
    "        for j in Y[best_fold_test, -1]:\n",
    "            total_Y.append(j)\n",
    "        Y_predict = clf.predict(features[best_fold_test])\n",
    "        for k in Y_predict:\n",
    "            total_Y_predict.append(k)\n",
    "  \n",
    "    cm = confusion_matrix(total_Y, total_Y_predict)\n",
    "    plot_confusion_matrix(cm)\n",
    "    print(classification_report(total_Y, total_Y_predict))\n",
    "    new_predict = clf.predict(np.asarray(unlabeled)[:,:-1])\n",
    "    print(new_predict)\n",
    "    #return np.average(scores)\n",
    "\n",
    "def plot_confusion_matrix(cm, title='Confusion matrix', cmap=plt.cm.Blues, labels=['low','med','high'], normalize=True):\n",
    "    \"\"\"\n",
    "    Method to visualize confusion matrix\n",
    "    \"\"\"\n",
    "    if normalize:\n",
    "        cm = cm.astype('float') / cm.sum(axis=1)[:, np.newaxis]\n",
    "    plt.imshow(cm, interpolation='nearest', cmap=cmap, vmin=0.0, vmax=1.0)\n",
    "    plt.title(title)\n",
    "    plt.colorbar()\n",
    "    tick_marks = np.arange(len(labels))\n",
    "    plt.xticks(tick_marks, labels, rotation=45)\n",
    "    plt.yticks(tick_marks, labels)\n",
    "    plt.tight_layout()\n",
    "    plt.ylabel('True label')\n",
    "    plt.xlabel('Predicted label')\n",
    "    \n",
    "    fmt = '.2f' if normalize else 'd'\n",
    "    thresh = cm.max() / 2.\n",
    "    for i, j in itertools.product(range(cm.shape[0]), range(cm.shape[1])):\n",
    "        plt.text(j, i, format(cm[i, j], fmt),\n",
    "                 horizontalalignment=\"center\",\n",
    "                 color=\"white\" if cm[i, j] > thresh else \"black\")\n",
    "    savefig('sample.pdf')"
   ]
  },
  {
   "cell_type": "markdown",
   "metadata": {},
   "source": [
    "Now we can test a classifier. Here we use a GradientBoostingClassifier. The parameters are specific to the classifier, so to adjust these for other models, you will need to look up the sklearn documentation. Here is the documentation for the GradientBoostingClassifier(https://scikit-learn.org/stable/modules/generated/sklearn.ensemble.GradientBoostingClassifier.html).\n",
    "\n",
    "The lines commented out below are examples of the other classifiers we tried. You can comment them out and try running each of them to see the results. If you would like to try a new classifier, you will need to add an import statement to be able to use it.\n",
    "\n",
    "The first number returned is the average accuracy over the 2 folds. The list of 3 numbers below it is the accuracy of each individual fold.\n",
    "\n",
    "Below this is the classification report. The first column is the risk labels. The second is the precision:\n",
    "    true positives/(true & false positives)\n",
    "This is the number of instances correctly predicted to be a label over all the instances predicted to be that label. For example, of all the communes we labeled as high-risk, how many were truly high-risk?\n",
    "The second column is the recall:\n",
    "    true positives/(true positives & false negatives)\n",
    "This is the number of instances correctly predicted to be a label over all the instances that truly are that label. For example, of all the communes we should have predicted to be high-risk, how many did we actually get?\n",
    "The third column is the f1-score, which is the harmonic mean of precision and recall. And finally, the support size is the number of instances that truly have that label.\n",
    "\n",
    "Lastly, we have the confusion matrix with the accuracy of each true and predicted label. A perfect classifier would have a dark blue diagonal with 1.00 in those three diagonal boxes and white 0.00s everywhere else. As you can see, we still have some work to do to get there, but this is a step in the right direction."
   ]
  },
  {
   "cell_type": "code",
   "execution_count": 8,
   "metadata": {},
   "outputs": [
    {
     "name": "stdout",
     "output_type": "stream",
     "text": [
      "0.3943722943722943\n",
      "[0.45454545 0.42857143 0.3       ]\n",
      "             precision    recall  f1-score   support\n",
      "\n",
      "        0.0       0.26      0.30      0.28        20\n",
      "        1.0       0.38      0.36      0.37        28\n",
      "        2.0       0.64      0.60      0.62        15\n",
      "\n",
      "avg / total       0.41      0.40      0.40        63\n",
      "\n",
      "[1. 1. 0. 0. 0. 0. 1. 2. 1. 0. 0. 0. 1. 1. 1. 1. 0. 1. 1. 0. 1. 1. 1. 2.\n",
      " 0. 0. 1. 0. 1. 0. 0. 0. 0. 1. 0. 1. 1. 0. 1. 1. 0. 0. 1. 0. 0. 1. 2. 1.\n",
      " 1. 1. 1. 0. 0. 1. 1. 2. 1. 2. 1. 0. 1. 1. 1. 0. 1. 1. 0. 1. 0. 1. 0. 1.\n",
      " 1. 0. 0. 0. 1.]\n"
     ]
    },
    {
     "data": {
      "image/png": "[encoded data removed]",
      "text/plain": [
       "<matplotlib.figure.Figure at 0x10ca7c320>"
      ]
     },
     "metadata": {},
     "output_type": "display_data"
    }
   ],
   "source": [
    "data = np.asarray(labeled)[:,:-1]\n",
    "test_classifier(GradientBoostingClassifier(n_estimators=200,learning_rate=0.5, max_depth=7), data)\n",
    "\n",
    "#test_classifier(RandomForestClassifier(), data)\n",
    "#test_classifier(neighbors.KNeighborsClassifier(n_neighbors = 10), data\n",
    "#test_classifier(cluster.KMeans(n_clusters=3), data)\n",
    "#test_classifier(ExtraTreesClassifier(), data)\n",
    "#test_classifier(AdaBoostClassifier(n_estimators=150,learning_rate=0.3), data)\n",
    "#test_classifier(DecisionTreeClassifier(), data)\n"
   ]
  }
 ],
 "metadata": {
  "kernelspec": {
   "display_name": "Python 3",
   "language": "python",
   "name": "python3"
  },
  "language_info": {
   "codemirror_mode": {
    "name": "ipython",
    "version": 3
   },
   "file_extension": ".py",
   "mimetype": "text/x-python",
   "name": "python",
   "nbconvert_exporter": "python",
   "pygments_lexer": "ipython3",
   "version": "3.6.3"
  }
 },
 "nbformat": 4,
 "nbformat_minor": 2
}
